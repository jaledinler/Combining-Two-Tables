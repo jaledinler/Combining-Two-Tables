{
 "cells": [
  {
   "cell_type": "code",
   "execution_count": 1,
   "metadata": {
    "collapsed": true
   },
   "outputs": [],
   "source": [
    "import pandas as pd\n",
    "import numpy as np\n"
   ]
  },
  {
   "cell_type": "code",
   "execution_count": 52,
   "metadata": {
    "collapsed": true
   },
   "outputs": [],
   "source": [
    "df = pd.read_csv('out.csv', usecols=['id','title','artist','year','genres'])\n",
    "df.id = df.id.drop_duplicates()\n",
    "df = df[np.isfinite(df['id']) == True]\n",
    "df = df[np.isfinite(df['year']) == True]\n",
    "df.year = df.year.astype(int)\n",
    "df = df[df['title'].astype(str) != \" \"]\n",
    "df = df[df['artist'].astype(str) != \" \"]\n",
    "df = df[(df['year'] >= 1999 ) == True]\n",
    "df = pd.concat([df[col].astype(str).str.lower() for col in df.columns], axis=1)\n",
    "df.to_csv('discog.csv', index=False, encoding = 'utf-8')"
   ]
  },
  {
   "cell_type": "code",
   "execution_count": 55,
   "metadata": {
    "collapsed": false
   },
   "outputs": [],
   "source": [
    "df = pd.read_csv('pitchfork_reviews.csv', usecols =['reviewid', 'title','artist','year','label','score','best_new_music'])\n",
    "df.reviewid = df.reviewid.drop_duplicates()\n",
    "df = df[np.isfinite(df['reviewid']) == True]\n",
    "df = pd.concat([df[col].astype(str).str.lower() for col in df.columns], axis=1)\n",
    "df.to_csv('pitchfork.csv', index=False, encoding = 'utf-8')"
   ]
  },
  {
   "cell_type": "code",
   "execution_count": 57,
   "metadata": {
    "collapsed": false
   },
   "outputs": [],
   "source": [
    "import py_entitymatching as em\n",
    "A = em.read_csv_metadata('pitchfork.csv', key='reviewid')\n",
    "B = em.read_csv_metadata('discog.csv', key='id')"
   ]
  },
  {
   "cell_type": "code",
   "execution_count": 58,
   "metadata": {
    "collapsed": true
   },
   "outputs": [],
   "source": [
    "ob = em.OverlapBlocker()"
   ]
  },
  {
   "cell_type": "code",
   "execution_count": 66,
   "metadata": {
    "collapsed": true
   },
   "outputs": [],
   "source": [
    "C = ob.block_tables(A, B, 'title', 'title', word_level=True, overlap_size=3, \n",
    "                    l_output_attrs=['title', 'artist', 'year','label','score','best_new_music'], \n",
    "                    r_output_attrs=['title', 'artist', 'year','genres'],\n",
    "                    show_progress=False)"
   ]
  },
  {
   "cell_type": "code",
   "execution_count": 67,
   "metadata": {
    "collapsed": true
   },
   "outputs": [],
   "source": [
    "ab = em.AttrEquivalenceBlocker()\n",
    "D = ab.block_candset(C, 'title', 'title', show_progress=False)\n",
    "D.to_csv('new_tuples_after_blocking.csv', index = False, encoding = 'utf-8')"
   ]
  },
  {
   "cell_type": "code",
   "execution_count": 119,
   "metadata": {
    "collapsed": false
   },
   "outputs": [],
   "source": [
    "df = pd.read_csv('possible_matches.csv', usecols = ['_id','ltable_reviewid','rtable_id','ltable_artist','ltable_title','ltable_year','rtable_title','rtable_artist','rtable_year','predicted'])\n",
    "df = df[df['predicted'] == 1]\n",
    "df = df.drop('predicted',1)\n",
    "df = df.rename(columns = {'ltable_reviewid':'p_id','rtable_id': 'd_id','rtable_artist' : 'd_artist', 'ltable_artist' : 'p_artist','ltable_title': 'p_title',\n",
    "                     'ltable_year': 'p_year','rtable_title': 'd_title','rtable_year': 'd_year'})\n",
    "df.to_csv('matches.csv', index = False, encoding = 'utf-8')"
   ]
  },
  {
   "cell_type": "code",
   "execution_count": 80,
   "metadata": {
    "collapsed": false
   },
   "outputs": [],
   "source": [
    "p = pd.read_csv('new_tuples_after_blocking.csv')"
   ]
  },
  {
   "cell_type": "code",
   "execution_count": 111,
   "metadata": {
    "collapsed": false
   },
   "outputs": [],
   "source": [
    "p['predicted'] = df['predicted']\n",
    "p = p[np.isfinite(p['predicted']) == True]\n",
    "p = p.rename(columns={'ltable_reviewid':'p_id','rtable_id': 'd_id','ltable_label': 'label','ltable_score': 'score', 'ltable_best_new_music': 'best_new_music', 'rtable_artist' : 'artist',\n",
    "                     'rtable_title': 'title','rtable_year': 'year', 'rtable_genres':'genres'})\n",
    "p = p[['p_id','d_id','artist', 'title', 'label', 'year', 'genres','score','best_new_music']]\n",
    "p.p_id = p.p_id.astype(int)\n",
    "p.d_id = p.d_id.astype(int)\n",
    "p.to_csv('table_E.csv', index = False, encoding = 'utf-8')"
   ]
  },
  {
   "cell_type": "code",
   "execution_count": null,
   "metadata": {
    "collapsed": true
   },
   "outputs": [],
   "source": []
  }
 ],
 "metadata": {
  "anaconda-cloud": {},
  "kernelspec": {
   "display_name": "Python [conda root]",
   "language": "python",
   "name": "conda-root-py"
  },
  "language_info": {
   "codemirror_mode": {
    "name": "ipython",
    "version": 3
   },
   "file_extension": ".py",
   "mimetype": "text/x-python",
   "name": "python",
   "nbconvert_exporter": "python",
   "pygments_lexer": "ipython3",
   "version": "3.5.2"
  }
 },
 "nbformat": 4,
 "nbformat_minor": 1
}
